{
 "cells": [
  {
   "cell_type": "markdown",
   "metadata": {},
   "source": [
    "# Step -1 : Pick K=3 points as centroids. Select 1st centroid randomly and other 2 centroids using Probabilistic Proportion approach.\n"
   ]
  },
  {
   "cell_type": "code",
   "execution_count": 23,
   "metadata": {},
   "outputs": [],
   "source": [
    "import random \n",
    "\n",
    "#Original Data Points\n",
    "data_points = []\n",
    "\n",
    "for i in range(0,200000):\n",
    "    d = round(random.random(),3)\n",
    "    data_points.append(d)    \n",
    "#print(data_points)\n",
    "\n",
    "#Selecting k(three) random centroids\n",
    "list1 = data_points\n",
    "\n",
    "#Select first centroid c1\n",
    "c1 = random.choice(list1)\n",
    "list1.remove(c1)"
   ]
  },
  {
   "cell_type": "code",
   "execution_count": 24,
   "metadata": {},
   "outputs": [],
   "source": [
    "#Select second centroid c2 \n",
    "list2 = []\n",
    "sumOfAll = sum(list1) \n",
    "dict1 = {}\n",
    "\n",
    "for item in list1:        \n",
    "        distance = (item - c1)**2\n",
    "        distance = round(distance/sumOfAll,5)\n",
    "        list2.append(distance)\n",
    "        \n",
    "for i in range(0,len(list2)):\n",
    "    dict1[i] = list2[i]\n",
    "\n",
    "list2.sort()\n",
    "\n",
    "for x,y in dict1.items():\n",
    "    if list2[-1] == y:\n",
    "        c2 = list1[x]\n",
    "\n",
    "#print(list1,list2,dict1,c2,c1,sep='\\n')\n",
    "list1.remove(c2)  "
   ]
  },
  {
   "cell_type": "code",
   "execution_count": 25,
   "metadata": {},
   "outputs": [
    {
     "name": "stdout",
     "output_type": "stream",
     "text": [
      "0.182\n",
      "0.923\n",
      "0.192\n"
     ]
    }
   ],
   "source": [
    "#Select third centroid c3\n",
    "sumOfAll = sum(list1) \n",
    "list3 = []\n",
    "dict2 = {}\n",
    "for item in list1:\n",
    "        distance1 = (item - c1)**2               \n",
    "        distance2 = (item - c2)**2\n",
    "        \n",
    "        if distance1>distance2:\n",
    "            distance1 = round(distance1/sumOfAll,5)\n",
    "            list3.append(distance1)\n",
    "        else:\n",
    "            distance2 = round(distance2/sumOfAll,5)\n",
    "            list3.append(distance2)\n",
    "\n",
    "for i in range(0,len(list3)):\n",
    "    dict2[i] = list3[i]\n",
    "\n",
    "list3.sort()\n",
    "\n",
    "for x,y in dict2.items():\n",
    "    if list3[-1] == y:\n",
    "        c3 = list1[x]\n",
    "\n",
    "print(c1,c2,c3,sep='\\n')\n",
    "list1.remove(c3)"
   ]
  },
  {
   "cell_type": "markdown",
   "metadata": {},
   "source": [
    "# Step-2 : For each x data point, calculate the distance from each centroid and assign it to nearest centroid."
   ]
  },
  {
   "cell_type": "code",
   "execution_count": 26,
   "metadata": {},
   "outputs": [],
   "source": [
    "#defining sets/clusters based on the nearest centroids \n",
    "\n",
    "def nearest_centroid(list1,c1,c2,c3):\n",
    "    set1 = []\n",
    "    set2 = []\n",
    "    set3 = []\n",
    "    for item in list1:\n",
    "        dist1 = (c1 - item)**2 #using squares of data to get modules\n",
    "        dist2 = (c2 - item)**2 #using squares of data to get modules\n",
    "        dist3 = (c3 - item)**2 #using squares of data to get modules       \n",
    "              \n",
    "        if dist1<dist2 and dist1<dist3:\n",
    "            set1.append(item)\n",
    "        elif dist2<dist1 and dist2<dist3:\n",
    "            set2.append(item)\n",
    "        else:\n",
    "            set3.append(item) \n",
    "        \n",
    "    return set1,set2,set3"
   ]
  },
  {
   "cell_type": "markdown",
   "metadata": {},
   "source": [
    "# Step-3 : Find each centroid for each cluster by taking their sample average value"
   ]
  },
  {
   "cell_type": "code",
   "execution_count": 27,
   "metadata": {},
   "outputs": [],
   "source": [
    "#to create new centroids from the clusters using average values of points inside the clusters\n",
    "def new_centroid(cluster):\n",
    "    if len(cluster) == 0:\n",
    "        length = 1\n",
    "    else:\n",
    "        length = len(cluster) \n",
    "    \n",
    "    sum_ele = sum(cluster)\n",
    "    \n",
    "    new_c = sum_ele/length   \n",
    "    return new_c"
   ]
  },
  {
   "cell_type": "markdown",
   "metadata": {},
   "source": [
    "# Step-4 : Compare new centroid with old centroid, if distance is negligible break the loop or reperform step2."
   ]
  },
  {
   "cell_type": "code",
   "execution_count": 28,
   "metadata": {},
   "outputs": [
    {
     "name": "stdout",
     "output_type": "stream",
     "text": [
      "old_c1 = 0.182 old_c2 = 0.923 old_c3 =0.192\n",
      "new_c1 = 0.0932 new_c2 = 0.7787 new_c3 =0.192\n",
      "new_c1 = 0.0711 new_c2 = 0.743 new_c3 =0.192\n",
      "new_c1 = 0.0655 new_c2 = 0.7341 new_c3 =0.192\n",
      "new_c1 = 0.0638 new_c2 = 0.732 new_c3 =0.192\n",
      "new_c1 = 0.0633 new_c2 = 0.731 new_c3 =0.192\n",
      "new_c1 = 0.0633 new_c2 = 0.731 new_c3 =0.192\n"
     ]
    }
   ],
   "source": [
    "#to compare different centroids values\n",
    "def compare_newC_with_OldC(c1,c2,c3,set1,set2,set3):\n",
    "\n",
    "    old_c1 = c1\n",
    "    new_c1 = new_centroid(set1) \n",
    "\n",
    "    old_c2 = c2\n",
    "    new_c2 = new_centroid(set2) \n",
    "\n",
    "    old_c3 = c3\n",
    "    new_c3 = new_centroid(set3)     \n",
    "\n",
    "    if old_c1<=new_c1:\n",
    "        new_c1 = old_c1\n",
    "\n",
    "    if old_c2<=new_c2:\n",
    "        new_c2 = old_c2\n",
    "\n",
    "    if old_c3<=new_c3:\n",
    "        new_c3 = old_c3\n",
    "\n",
    "    return new_c1,new_c2,new_c3\n",
    "\n",
    "print('old_c1 = {} old_c2 = {} old_c3 ={}'.format(c1,c2,c3))\n",
    "\n",
    "while 1:\n",
    "    #print('old_c1 = {} old_c2 = {} old_c3 ={}'.format(c1,c2,c3))\n",
    "    tuple0 = nearest_centroid(list1,c1,c2,c3)\n",
    "    set1 = tuple0[0]\n",
    "    set2 = tuple0[1]\n",
    "    set3 = tuple0[2]\n",
    "    \n",
    "    tuple1 = compare_newC_with_OldC(c1,c2,c3,set1,set2,set3)\n",
    "    new_c1 = round(tuple1[0],4)\n",
    "    new_c2 = round(tuple1[1],4)\n",
    "    new_c3 = round(tuple1[2],4)\n",
    "    \n",
    "    if c1==new_c1 and c2==new_c2 and c3==new_c3:\n",
    "        break\n",
    "    else:\n",
    "        c1 = new_c1\n",
    "        c2 = new_c2\n",
    "        c3 = new_c3  \n",
    "    print('new_c1 = {} new_c2 = {} new_c3 ={}'.format(new_c1,new_c2,new_c3))\n",
    "        \n",
    "print('new_c1 = {} new_c2 = {} new_c3 ={}'.format(new_c1,new_c2,new_c3))"
   ]
  },
  {
   "cell_type": "code",
   "execution_count": 29,
   "metadata": {},
   "outputs": [
    {
     "name": "stdout",
     "output_type": "stream",
     "text": [
      "25563\n",
      "107607\n",
      "66827\n"
     ]
    }
   ],
   "source": [
    "print(len(set1),len(set2),len(set3),sep='\\n')"
   ]
  },
  {
   "cell_type": "code",
   "execution_count": 30,
   "metadata": {},
   "outputs": [
    {
     "data": {
      "image/png": "[encoded data removed]",
      "text/plain": [
       "<Figure size 432x288 with 1 Axes>"
      ]
     },
     "metadata": {
      "needs_background": "light"
     },
     "output_type": "display_data"
    }
   ],
   "source": [
    "import matplotlib.pyplot as plt\n",
    "y = []\n",
    "for i in range(0,10000):\n",
    "    y.append(i)\n",
    "\n",
    "y.sort()\n",
    "\n",
    "plt.scatter(set1[0:10000],y,color = 'c' )\n",
    "plt.scatter(set2[0:10000],y,color = 'r' )\n",
    "plt.scatter(set3[0:10000],y,color = 'b' )\n",
    "plt.show()"
   ]
  },
  {
   "cell_type": "code",
   "execution_count": null,
   "metadata": {},
   "outputs": [],
   "source": []
  },
  {
   "cell_type": "code",
   "execution_count": null,
   "metadata": {},
   "outputs": [],
   "source": []
  }
 ],
 "metadata": {
  "kernelspec": {
   "display_name": "Python 3",
   "language": "python",
   "name": "python3"
  },
  "language_info": {
   "codemirror_mode": {
    "name": "ipython",
    "version": 3
   },
   "file_extension": ".py",
   "mimetype": "text/x-python",
   "name": "python",
   "nbconvert_exporter": "python",
   "pygments_lexer": "ipython3",
   "version": "3.7.1"
  }
 },
 "nbformat": 4,
 "nbformat_minor": 2
}
