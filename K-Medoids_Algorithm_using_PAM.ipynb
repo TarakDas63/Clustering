{
 "cells": [
  {
   "cell_type": "markdown",
   "metadata": {},
   "source": [
    "# 1st Approach  - By PAM(Partioning Around Medoids),which uses Euclidean Distance"
   ]
  },
  {
   "cell_type": "markdown",
   "metadata": {},
   "source": [
    "<h2> ==> PAM is computationally expensive and would not work well with large datasets.</h2>"
   ]
  },
  {
   "cell_type": "markdown",
   "metadata": {},
   "source": [
    "# Step -1 : Pick K=3 points as medoids. Select 1st medoid randomly and other 2 medoids using Probabilistic Proportion approach.\n"
   ]
  },
  {
   "cell_type": "code",
   "execution_count": 8,
   "metadata": {},
   "outputs": [],
   "source": [
    "import random \n",
    "\n",
    "#Original Data Points\n",
    "data_points = []\n",
    "\n",
    "for i in range(0,100):\n",
    "    d = round(random.random(),2)\n",
    "    data_points.append(d)    \n",
    "#print(data_points)\n",
    "\n",
    "#Selecting k(three) random medoids\n",
    "list1 = data_points\n",
    "\n",
    "#Select first medoid m1\n",
    "m1 = random.choice(list1)\n",
    "#list1.remove(m1)"
   ]
  },
  {
   "cell_type": "code",
   "execution_count": 9,
   "metadata": {},
   "outputs": [],
   "source": [
    "#Select second medoid m2 \n",
    "list2 = []\n",
    "sumOfAll = sum(list1) \n",
    "dict1 = {}\n",
    "\n",
    "for item in list1:        \n",
    "        distance = (item - m1)**2\n",
    "        distance = round(distance/sumOfAll,5)\n",
    "        list2.append(distance)\n",
    "        \n",
    "for i in range(0,len(list2)):\n",
    "    dict1[i] = list2[i]\n",
    "\n",
    "list2.sort()\n",
    "\n",
    "for x,y in dict1.items():\n",
    "    if list2[-1] == y:\n",
    "        m2 = list1[x]\n",
    "\n",
    "#print(list1,list2,dict1,c2,c1,sep='\\n')\n",
    "#list1.remove(m2)  "
   ]
  },
  {
   "cell_type": "code",
   "execution_count": 10,
   "metadata": {},
   "outputs": [
    {
     "name": "stdout",
     "output_type": "stream",
     "text": [
      "0.29\n",
      "1.0\n",
      "0.05\n"
     ]
    }
   ],
   "source": [
    "#Select third medoid m3\n",
    "sumOfAll = sum(list1) \n",
    "list3 = []\n",
    "dict2 = {}\n",
    "for item in list1:\n",
    "        distance1 = (item - m1)**2               \n",
    "        distance2 = (item - m2)**2\n",
    "        \n",
    "        if distance1>distance2:\n",
    "            distance1 = round(distance1/sumOfAll,5)\n",
    "            list3.append(distance1)\n",
    "        else:\n",
    "            distance2 = round(distance2/sumOfAll,5)\n",
    "            list3.append(distance2)\n",
    "\n",
    "for i in range(0,len(list3)):\n",
    "    dict2[i] = list3[i]\n",
    "\n",
    "list3.sort()\n",
    "\n",
    "for x,y in dict2.items():\n",
    "    if list3[-1] == y:\n",
    "        m3 = list1[x]\n",
    "\n",
    "print(m1,m2,m3,sep='\\n')\n",
    "#list1.remove(m3)"
   ]
  },
  {
   "cell_type": "markdown",
   "metadata": {},
   "source": [
    "# Step-2 : For each x data point, calculate the distance from each medoid and assign it to nearest medoid."
   ]
  },
  {
   "cell_type": "code",
   "execution_count": 11,
   "metadata": {},
   "outputs": [],
   "source": [
    "#defining sets/clusters based on the nearest medoids \n",
    "\n",
    "def nearest_medoid(list1,m1,m2,m3):\n",
    "    set1 = []\n",
    "    set2 = []\n",
    "    set3 = []\n",
    "    for item in list1:\n",
    "        dist1 = (m1 - item)**2 #using squares of data to get modules\n",
    "        dist2 = (m2 - item)**2 #using squares of data to get modules\n",
    "        dist3 = (m3 - item)**2 #using squares of data to get modules       \n",
    "              \n",
    "        if dist1<dist2 and dist1<dist3:\n",
    "            set1.append(item)\n",
    "        elif dist2<dist1 and dist2<dist3:\n",
    "            set2.append(item)\n",
    "        else:\n",
    "            set3.append(item) \n",
    "        \n",
    "    return set1,set2,set3"
   ]
  },
  {
   "cell_type": "markdown",
   "metadata": {},
   "source": [
    "# Step-3 : Find each medoid for each cluster by calculating squared distance of each points from the medoid and calculating the loss value. If the loss value is less than the previous loss value swap the medoid with non-medoid points else keep the previous medoid.\n"
   ]
  },
  {
   "cell_type": "code",
   "execution_count": 12,
   "metadata": {},
   "outputs": [],
   "source": [
    "#to calculate the loss value form each culsters\n",
    "def new_medoid(m1,m2,m3,cluster1,cluster2,cluster3):\n",
    "    \n",
    "    previous_medoid_cluster1 = []\n",
    "    previous_medoid_cluster2 = []\n",
    "    previous_medoid_cluster3 = []\n",
    "    all_medoids = dict()\n",
    "    for_sort = dict()\n",
    "    sorted_list = []\n",
    "    \n",
    "    def final_loss(m1,m2,m3,cluster1,cluster2,cluster3):\n",
    "        for item1 in cluster1:\n",
    "            loss_value1 = (m1 - item1)**2\n",
    "        \n",
    "        for item2 in cluster2:\n",
    "            loss_value2 = (m2 - item2)**2\n",
    "        \n",
    "        for item3 in cluster3:\n",
    "            loss_value3 = (m3 - item3)**2\n",
    "            \n",
    "        \n",
    "        final_loss_value = loss_value1 + loss_value2 + loss_value3\n",
    "        \n",
    "        return final_loss_value\n",
    "    \n",
    "    all_medoids[(m1,m2,m3)] = final_loss(m1,m2,m3,cluster1,cluster2,cluster3)\n",
    "    \n",
    "    def select_medoid1(m1,cluster1):\n",
    "        previous_medoid_cluster1.append(m1)\n",
    "        new_medoid = random.choice(cluster1)\n",
    "        \n",
    "        for i in previous_medoid_cluster1:\n",
    "            while i==new_medoid:\n",
    "                new_medoid = random.choice(cluster1)\n",
    "        return new_medoid\n",
    "       \n",
    "    def select_medoid2(m2,cluster2):\n",
    "        previous_medoid_cluster2.append(m2)\n",
    "        new_medoid = random.choice(cluster2)\n",
    "        \n",
    "        for i in previous_medoid_cluster2:\n",
    "            while i==new_medoid:\n",
    "                new_medoid = random.choice(cluster2)\n",
    "        return new_medoid\n",
    "\n",
    "    def select_medoid3(m3,cluster3):\n",
    "        previous_medoid_cluster3.append(m3)\n",
    "        new_medoid = random.choice(cluster3)\n",
    "        \n",
    "        for i in previous_medoid_cluster3:\n",
    "            while i==new_medoid:\n",
    "                new_medoid = random.choice(cluster3)\n",
    "        return new_medoid\n",
    "    \n",
    "    for item1 in cluster1:\n",
    "        m1 = select_medoid1(m1,cluster1)\n",
    "        final_loss(m1,m2,m3,cluster1,cluster2,cluster3)\n",
    "        all_medoids[(m1,m2,m3)] = final_loss(m1,m2,m3,cluster1,cluster2,cluster3)\n",
    "        \n",
    "        for item2 in cluster2:\n",
    "            m2 = select_medoid2(m2,cluster2)\n",
    "            final_loss(m1,m2,m3,cluster1,cluster2,cluster3)\n",
    "            all_medoids[(m1,m2,m3)] = final_loss(m1,m2,m3,cluster1,cluster2,cluster3)\n",
    "    \n",
    "            for item3 in cluster3:\n",
    "                m3 = select_medoid3(m3,cluster3)\n",
    "                final_loss(m1,m2,m3,cluster1,cluster2,cluster3)\n",
    "                all_medoids[(m1,m2,m3)] = final_loss(m1,m2,m3,cluster1,cluster2,cluster3)\n",
    "    \n",
    "    i = 0\n",
    "    for value in all_medoids.values():\n",
    "        for_sort[value] = i\n",
    "        sorted_list.append(value)\n",
    "        i = i+1  \n",
    "        \n",
    "    \n",
    "    sorted_list.sort()\n",
    "    \n",
    "    for x,y in for_sort.items():\n",
    "        if sorted_list[0] == x:\n",
    "            index_loss = y\n",
    "            break\n",
    "    j= 0        \n",
    "    for key in all_medoids.keys():\n",
    "        if j == index_loss:\n",
    "            new_m = tuple(key)\n",
    "            break\n",
    "        j = j+1\n",
    "    \n",
    "    return new_m"
   ]
  },
  {
   "cell_type": "markdown",
   "metadata": {},
   "source": [
    "# Step-4 : Compare new medoid with old medoid, if distance is negligible break the loop or reperform step2."
   ]
  },
  {
   "cell_type": "code",
   "execution_count": 13,
   "metadata": {},
   "outputs": [
    {
     "name": "stdout",
     "output_type": "stream",
     "text": [
      "old_m1 = 0.29 old_m2 = 1.0 old_m3 = 0.05\n",
      "new_m1 = 0.29 new_m2 = 0.88 new_m3 = 0.15\n",
      "new_m1 = 0.29 new_m2 = 0.88 new_m3 = 0.17\n",
      "new_m1 = 0.29 new_m2 = 0.88 new_m3 = 0.17\n"
     ]
    }
   ],
   "source": [
    "#to compare different medoids values\n",
    "def compare_newM_with_OldM(m1,m2,m3,set1,set2,set3):\n",
    "       \n",
    "    old_m1 = m1\n",
    "    old_m2 = m2\n",
    "    old_m3 = m3\n",
    "\n",
    "    new_m = new_medoid(m1,m2,m3,set1,set2,set3) \n",
    "   \n",
    "    new_m1 = new_m[0]\n",
    "    new_m2 = new_m[1]\n",
    "    new_m3 = new_m[2]\n",
    "\n",
    "    if old_m1<=new_m1:\n",
    "        new_m1 = old_m1\n",
    "\n",
    "    if old_m2<=new_m2:\n",
    "        new_m2 = old_m2\n",
    "\n",
    "    if old_m3<=new_m3:\n",
    "        new_cm = old_m3\n",
    "\n",
    "    return new_m1,new_m2,new_m3\n",
    "\n",
    "print('old_m1 = {} old_m2 = {} old_m3 = {}'.format(m1,m2,m3))\n",
    "\n",
    "while 1:\n",
    "    #print('old_c1 = {} old_c2 = {} old_c3 ={}'.format(c1,c2,c3))\n",
    "    tuple0 = nearest_medoid(list1,m1,m2,m3)\n",
    "    set1 = tuple0[0]\n",
    "    set2 = tuple0[1]\n",
    "    set3 = tuple0[2]\n",
    "    \n",
    "    tuple1 = compare_newM_with_OldM(m1,m2,m3,set1,set2,set3)\n",
    "    new_m1 = round(tuple1[0],2)\n",
    "    new_m2 = round(tuple1[1],2)\n",
    "    new_m3 = round(tuple1[2],2)\n",
    "    \n",
    "    if m1==new_m1 and m2==new_m2 and m3==new_m3:\n",
    "        break\n",
    "    else:\n",
    "        m1 = new_m1\n",
    "        m2 = new_m2\n",
    "        m3 = new_m3  \n",
    "    print('new_m1 = {} new_m2 = {} new_m3 = {}'.format(new_m1,new_m2,new_m3))\n",
    "        \n",
    "print('new_m1 = {} new_m2 = {} new_m3 = {}'.format(new_m1,new_m2,new_m3))"
   ]
  },
  {
   "cell_type": "code",
   "execution_count": 14,
   "metadata": {},
   "outputs": [
    {
     "name": "stdout",
     "output_type": "stream",
     "text": [
      "41\n",
      "45\n",
      "14\n"
     ]
    }
   ],
   "source": [
    "print(len(set1),len(set2),len(set3),sep='\\n')"
   ]
  },
  {
   "cell_type": "code",
   "execution_count": 16,
   "metadata": {},
   "outputs": [
    {
     "data": {
      "image/png": "[encoded data removed]",
      "text/plain": [
       "<Figure size 432x288 with 1 Axes>"
      ]
     },
     "metadata": {
      "needs_background": "light"
     },
     "output_type": "display_data"
    }
   ],
   "source": [
    "import matplotlib.pyplot as plt\n",
    "y = []\n",
    "for i in range(0,14):\n",
    "    y.append(i)\n",
    "\n",
    "y.sort()\n",
    "\n",
    "plt.scatter(set1[0:14],y,color = 'c' )\n",
    "plt.scatter(set2[0:14],y,color = 'r' )\n",
    "plt.scatter(set3[0:14],y,color = 'b' )\n",
    "plt.show()"
   ]
  },
  {
   "cell_type": "code",
   "execution_count": null,
   "metadata": {},
   "outputs": [],
   "source": []
  }
 ],
 "metadata": {
  "kernelspec": {
   "display_name": "Python 3",
   "language": "python",
   "name": "python3"
  },
  "language_info": {
   "codemirror_mode": {
    "name": "ipython",
    "version": 3
   },
   "file_extension": ".py",
   "mimetype": "text/x-python",
   "name": "python",
   "nbconvert_exporter": "python",
   "pygments_lexer": "ipython3",
   "version": "3.7.1"
  }
 },
 "nbformat": 4,
 "nbformat_minor": 2
}
