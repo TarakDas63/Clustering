{
 "cells": [
  {
   "cell_type": "markdown",
   "metadata": {},
   "source": [
    "<h2><u>Alternative Idea of PAM(Partioning Around Medoids) : </u></h2>\n",
    "<h3>This would need computation of mean which is O(n) where n is the number of points in the cluster followed by finding the closest point to this mean which is again O(n) making the overall complexity of this approach O(n). </h3>"
   ]
  },
  {
   "cell_type": "markdown",
   "metadata": {},
   "source": [
    "# Step -1 : Pick K=3 points as medoids. Select 1st medoid randomly and other 2 medoids using Probabilistic Proportion approach."
   ]
  },
  {
   "cell_type": "code",
   "execution_count": 69,
   "metadata": {},
   "outputs": [],
   "source": [
    "import random \n",
    "\n",
    "#Original Data Points\n",
    "data_points = []\n",
    "\n",
    "for i in range(0,200000):\n",
    "    d = round(random.random(),3)\n",
    "    data_points.append(d)    \n",
    "#print(data_points)\n",
    "\n",
    "#Selecting k(three) random medoids\n",
    "list1 = data_points\n",
    "\n",
    "#Select first medoid m1\n",
    "m1 = random.choice(list1)\n",
    "list1.remove(m1)"
   ]
  },
  {
   "cell_type": "code",
   "execution_count": 70,
   "metadata": {},
   "outputs": [],
   "source": [
    "#Select second medoid m2 \n",
    "list2 = []\n",
    "sumOfAll = sum(list1) \n",
    "dict1 = {}\n",
    "\n",
    "for item in list1:        \n",
    "        distance = (item - m1)**2\n",
    "        distance = round(distance/sumOfAll,5)\n",
    "        list2.append(distance)\n",
    "        \n",
    "for i in range(0,len(list2)):\n",
    "    dict1[i] = list2[i]\n",
    "\n",
    "list2.sort()\n",
    "\n",
    "for x,y in dict1.items():\n",
    "    if list2[-1] == y:\n",
    "        m2 = list1[x]\n",
    "\n",
    "#print(list1,list2,dict1,c2,c1,sep='\\n')\n",
    "list1.remove(m2)  "
   ]
  },
  {
   "cell_type": "code",
   "execution_count": 71,
   "metadata": {},
   "outputs": [
    {
     "name": "stdout",
     "output_type": "stream",
     "text": [
      "0.954\n",
      "0.091\n",
      "0.844\n"
     ]
    }
   ],
   "source": [
    "#Select third medoid m3\n",
    "sumOfAll = sum(list1) \n",
    "list3 = []\n",
    "dict2 = {}\n",
    "for item in list1:\n",
    "        distance1 = (item - m1)**2               \n",
    "        distance2 = (item - m2)**2\n",
    "        \n",
    "        if distance1>distance2:\n",
    "            distance1 = round(distance1/sumOfAll,5)\n",
    "            list3.append(distance1)\n",
    "        else:\n",
    "            distance2 = round(distance2/sumOfAll,5)\n",
    "            list3.append(distance2)\n",
    "\n",
    "for i in range(0,len(list3)):\n",
    "    dict2[i] = list3[i]\n",
    "\n",
    "list3.sort()\n",
    "\n",
    "for x,y in dict2.items():\n",
    "    if list3[-1] == y:\n",
    "        m3 = list1[x]\n",
    "\n",
    "print(m1,m2,m3,sep='\\n')\n",
    "list1.remove(m3)"
   ]
  },
  {
   "cell_type": "markdown",
   "metadata": {},
   "source": [
    "# Step-2 : For each x data point, calculate the distance from each medoid and assign it to nearest medoid."
   ]
  },
  {
   "cell_type": "code",
   "execution_count": 72,
   "metadata": {},
   "outputs": [],
   "source": [
    "#defining sets/clusters based on the nearest medoids \n",
    "\n",
    "def nearest_medoid(list1,m1,m2,m3):\n",
    "    set1 = []\n",
    "    set2 = []\n",
    "    set3 = []\n",
    "    for item in list1:\n",
    "        dist1 = (m1 - item)**2 #using squares of data to get modules\n",
    "        dist2 = (m2 - item)**2 #using squares of data to get modules\n",
    "        dist3 = (m3 - item)**2 #using squares of data to get modules       \n",
    "              \n",
    "        if dist1<dist2 and dist1<dist3:\n",
    "            set1.append(item)\n",
    "        elif dist2<dist1 and dist2<dist3:\n",
    "            set2.append(item)\n",
    "        else:\n",
    "            set3.append(item) \n",
    "        \n",
    "    return set1,set2,set3"
   ]
  },
  {
   "cell_type": "markdown",
   "metadata": {},
   "source": [
    "# Step-3 : Find each medoid for each cluster by taking their sample average value"
   ]
  },
  {
   "cell_type": "code",
   "execution_count": 73,
   "metadata": {},
   "outputs": [],
   "source": [
    "#to create new medoids from the clusters using average values of points inside the clusters\n",
    "def new_medoid(cluster):\n",
    "    small_than_mean = []\n",
    "    if len(cluster) == 0:\n",
    "        length = 1\n",
    "    else:\n",
    "        length = len(cluster) \n",
    "    \n",
    "    sum_ele = sum(cluster)\n",
    "    \n",
    "    new_mean = sum_ele/length   \n",
    "    \n",
    "    for i in cluster:\n",
    "        if new_mean > i:\n",
    "            small_than_mean.append(i)\n",
    "            \n",
    "    small_than_mean.sort()\n",
    "    new_m = small_than_mean[-1]\n",
    "    return new_m"
   ]
  },
  {
   "cell_type": "markdown",
   "metadata": {},
   "source": [
    "# Step-4 : Compare new medoid with old medoid, if distance is negligible break the loop or reperform step2."
   ]
  },
  {
   "cell_type": "code",
   "execution_count": 74,
   "metadata": {},
   "outputs": [
    {
     "name": "stdout",
     "output_type": "stream",
     "text": [
      "old_m1 = 0.954 old_m2 = 0.091 old_m3 =0.844\n",
      "new_m1 = 0.949 new_m2 = 0.091 new_m3 =0.682\n",
      "new_m1 = 0.907 new_m2 = 0.091 new_m3 =0.6\n",
      "new_m1 = 0.876 new_m2 = 0.091 new_m3 =0.549\n",
      "new_m1 = 0.855 new_m2 = 0.091 new_m3 =0.516\n",
      "new_m1 = 0.842 new_m2 = 0.091 new_m3 =0.494\n",
      "new_m1 = 0.833 new_m2 = 0.091 new_m3 =0.48\n",
      "new_m1 = 0.828 new_m2 = 0.091 new_m3 =0.471\n",
      "new_m1 = 0.824 new_m2 = 0.091 new_m3 =0.465\n",
      "new_m1 = 0.822 new_m2 = 0.091 new_m3 =0.461\n",
      "new_m1 = 0.82 new_m2 = 0.091 new_m3 =0.458\n",
      "new_m1 = 0.819 new_m2 = 0.091 new_m3 =0.456\n",
      "new_m1 = 0.818 new_m2 = 0.091 new_m3 =0.455\n",
      "new_m1 = 0.818 new_m2 = 0.091 new_m3 =0.454\n",
      "new_m1 = 0.817 new_m2 = 0.091 new_m3 =0.454\n",
      "new_m1 = 0.817 new_m2 = 0.091 new_m3 =0.454\n"
     ]
    }
   ],
   "source": [
    "#to compare different medoids values\n",
    "def compare_newM_with_OldM(m1,m2,m3,set1,set2,set3):\n",
    "\n",
    "    old_m1 = m1\n",
    "    new_m1 = new_medoid(set1) \n",
    "\n",
    "    old_m2 = m2\n",
    "    new_m2 = new_medoid(set2) \n",
    "\n",
    "    old_m3 = m3\n",
    "    new_m3 = new_medoid(set3)     \n",
    "\n",
    "    if old_m1<=new_m1:\n",
    "        new_m1 = old_m1\n",
    "\n",
    "    if old_m2<=new_m2:\n",
    "        new_m2 = old_m2\n",
    "\n",
    "    if old_m3<=new_m3:\n",
    "        new_m3 = old_m3\n",
    "\n",
    "    return new_m1,new_m2,new_m3\n",
    "\n",
    "print('old_m1 = {} old_m2 = {} old_m3 ={}'.format(m1,m2,m3))\n",
    "\n",
    "while 1:\n",
    "    #print('old_m1 = {} old_m2 = {} old_m3 ={}'.format(m1,m2,m3))\n",
    "    tuple0 = nearest_medoid(list1,m1,m2,m3)\n",
    "    set1 = tuple0[0]\n",
    "    set2 = tuple0[1]\n",
    "    set3 = tuple0[2]\n",
    "    \n",
    "    tuple1 = compare_newM_with_OldM(m1,m2,m3,set1,set2,set3)\n",
    "    new_m1 = round(tuple1[0],4)\n",
    "    new_m2 = round(tuple1[1],4)\n",
    "    new_m3 = round(tuple1[2],4)\n",
    "    \n",
    "    if m1==new_m1 and m2==new_m2 and m3==new_m3:\n",
    "        break\n",
    "    else:\n",
    "        m1 = new_m1\n",
    "        m2 = new_m2\n",
    "        m3 = new_m3  \n",
    "    print('new_m1 = {} new_m2 = {} new_m3 ={}'.format(new_m1,new_m2,new_m3))\n",
    "        \n",
    "print('new_m1 = {} new_m2 = {} new_m3 ={}'.format(new_m1,new_m2,new_m3))"
   ]
  },
  {
   "cell_type": "code",
   "execution_count": 75,
   "metadata": {},
   "outputs": [
    {
     "name": "stdout",
     "output_type": "stream",
     "text": [
      "72923\n",
      "54298\n",
      "72776\n"
     ]
    }
   ],
   "source": [
    "print(len(set1),len(set2),len(set3),sep='\\n')"
   ]
  },
  {
   "cell_type": "code",
   "execution_count": 76,
   "metadata": {},
   "outputs": [
    {
     "data": {
      "image/png": "[encoded data removed]",
      "text/plain": [
       "<Figure size 432x288 with 1 Axes>"
      ]
     },
     "metadata": {
      "needs_background": "light"
     },
     "output_type": "display_data"
    }
   ],
   "source": [
    "import matplotlib.pyplot as plt\n",
    "y = []\n",
    "for i in range(0,10000):\n",
    "    y.append(i)\n",
    "\n",
    "y.sort()\n",
    "\n",
    "plt.scatter(set1[0:10000],y,color = 'c' )\n",
    "plt.scatter(set2[0:10000],y,color = 'r' )\n",
    "plt.scatter(set3[0:10000],y,color = 'b' )\n",
    "plt.show()"
   ]
  },
  {
   "cell_type": "code",
   "execution_count": null,
   "metadata": {},
   "outputs": [],
   "source": []
  }
 ],
 "metadata": {
  "kernelspec": {
   "display_name": "Python 3",
   "language": "python",
   "name": "python3"
  },
  "language_info": {
   "codemirror_mode": {
    "name": "ipython",
    "version": 3
   },
   "file_extension": ".py",
   "mimetype": "text/x-python",
   "name": "python",
   "nbconvert_exporter": "python",
   "pygments_lexer": "ipython3",
   "version": "3.7.1"
  }
 },
 "nbformat": 4,
 "nbformat_minor": 2
}
